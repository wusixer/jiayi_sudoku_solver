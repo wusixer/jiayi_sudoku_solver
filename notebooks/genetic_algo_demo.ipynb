{
 "cells": [
  {
   "cell_type": "markdown",
   "id": "2a03239f-77b8-46ba-9e46-7b3e8f4addaf",
   "metadata": {},
   "source": [
    "## Jiayi's Sudoku solver (part2) - using genetic algorithm as the sudoku solver"
   ]
  },
  {
   "cell_type": "markdown",
   "id": "925d0c02-4e2f-4fd7-ae05-25bea2b9cd50",
   "metadata": {},
   "source": [
    "#### A demo on solving different level of Sudoku puzzles using genetic algorithm"
   ]
  },
  {
   "cell_type": "code",
   "execution_count": 1,
   "id": "a506830b-c438-44f3-bbdf-61ec22265ef1",
   "metadata": {},
   "outputs": [],
   "source": [
    "%load_ext autoreload\n",
    "%autoreload 2"
   ]
  },
  {
   "cell_type": "code",
   "execution_count": 2,
   "id": "6cb377b6-d562-4373-bcd0-59fd108f8bf2",
   "metadata": {},
   "outputs": [],
   "source": [
    "import jiayi_sudoku_solver.Sudoku as Sudoku \n",
    "from jiayi_sudoku_solver.genetic_algo import *\n",
    "from jiayi_sudoku_solver.util import show_sudoku_with_known_truth"
   ]
  },
  {
   "cell_type": "markdown",
   "id": "56766a71-1529-4a7d-9e40-9491840911f8",
   "metadata": {},
   "source": [
    "##### Look at an easy puzzle first"
   ]
  },
  {
   "cell_type": "code",
   "execution_count": 4,
   "id": "8f8509fd-16fd-414a-91d0-1bfc66999b27",
   "metadata": {},
   "outputs": [],
   "source": [
    "startingSudoku1 =   \"\"\"\n",
    "                    430260700\n",
    "                    682070493\n",
    "                    107804500\n",
    "                    820190047\n",
    "                    004602910\n",
    "                    950703028\n",
    "                    509306070\n",
    "                    240057106\n",
    "                    703018250\n",
    "                    \"\"\""
   ]
  },
  {
   "cell_type": "code",
   "execution_count": 5,
   "id": "40b6a2bf-3971-4c1b-b6e3-be3f83939e34",
   "metadata": {},
   "outputs": [
    {
     "data": {
      "image/png": "[encoded data removed]",
      "text/plain": [
       "<Figure size 432x288 with 1 Axes>"
      ]
     },
     "metadata": {
      "needs_background": "light"
     },
     "output_type": "display_data"
    }
   ],
   "source": [
    "sudoku_obj = Sudoku.Sudoku(startingSudoku1)\n",
    "show_sudoku_filled(sudoku_obj.np_Sudoku)"
   ]
  },
  {
   "cell_type": "markdown",
   "id": "2d065b4d-4b31-4d46-9b66-2b7f0eb2a1d8",
   "metadata": {},
   "source": [
    "#### The genetic algorithm found a solution in generation 28"
   ]
  },
  {
   "cell_type": "code",
   "execution_count": 6,
   "id": "c7f16c12-209b-4d23-98d2-5768e45c8508",
   "metadata": {},
   "outputs": [
    {
     "name": "stdout",
     "output_type": "stream",
     "text": [
      "Solved in generation 28, time used is 0.2655351161956787\n"
     ]
    },
    {
     "data": {
      "image/png": "[encoded data removed]",
      "text/plain": [
       "<Figure size 432x288 with 1 Axes>"
      ]
     },
     "metadata": {
      "needs_background": "light"
     },
     "output_type": "display_data"
    }
   ],
   "source": [
    "genetic_algorithm(startingSudoku = startingSudoku1, max_generation =80)"
   ]
  },
  {
   "cell_type": "markdown",
   "id": "916e6a74-d41d-419a-adbd-7af7f65483de",
   "metadata": {},
   "source": [
    "##### Now let's try a difficult one, Vegard Hanssen puzzle 2155141 taken from [here](https://sandiway.arizona.edu/sudoku/examples.html)"
   ]
  },
  {
   "cell_type": "code",
   "execution_count": 7,
   "id": "6392bc31-7f31-4196-8b91-224e1b9dd7bf",
   "metadata": {},
   "outputs": [],
   "source": [
    "startingSudoku2 = \"\"\"\n",
    "                    000600400\n",
    "                    700003600\n",
    "                    000091080\n",
    "                    000000000\n",
    "                    050180003\n",
    "                    000306045\n",
    "                    040200060\n",
    "                    903000000\n",
    "                    020000100\n",
    "                   \"\"\"\n",
    "solvedstartingSoduku2 = \"\"\"\n",
    "                        581672439\n",
    "                        791843651\n",
    "                        364591782\n",
    "                        438957216\n",
    "                        256184973\n",
    "                        179326845\n",
    "                        845219367\n",
    "                        913768524\n",
    "                        627435198\n",
    "                        \"\"\""
   ]
  },
  {
   "cell_type": "markdown",
   "id": "f1186444-818e-4d4e-b6b2-87a3deda0ec0",
   "metadata": {},
   "source": [
    "##### The genetic algorithm didn't find the ultimate solution, but the close form solution only has 2 column errors"
   ]
  },
  {
   "cell_type": "code",
   "execution_count": 8,
   "id": "ad34ddab-88f6-4117-bbde-a9d9647f9e47",
   "metadata": {},
   "outputs": [
    {
     "name": "stdout",
     "output_type": "stream",
     "text": [
      "not solved, min error is 2\n"
     ]
    }
   ],
   "source": [
    "close_to_solved_puzzle2 = genetic_algorithm(startingSudoku = startingSudoku2, max_generation =5000)"
   ]
  },
  {
   "cell_type": "code",
   "execution_count": 13,
   "id": "3adf60ea-ccb3-4ebd-ac14-92d92d01b259",
   "metadata": {},
   "outputs": [
    {
     "data": {
      "text/plain": [
       "array([[3, 8, 1, 6, 5, 2, 4, 9, 7],\n",
       "       [7, 9, 2, 8, 4, 3, 6, 5, 1],\n",
       "       [5, 6, 4, 7, 9, 1, 3, 8, 2],\n",
       "       [2, 3, 8, 4, 7, 5, 9, 1, 6],\n",
       "       [4, 5, 6, 1, 8, 9, 7, 2, 3],\n",
       "       [1, 7, 9, 3, 2, 6, 8, 4, 5],\n",
       "       [8, 4, 7, 2, 1, 3, 5, 6, 9],\n",
       "       [9, 1, 3, 5, 6, 8, 2, 7, 4],\n",
       "       [6, 2, 5, 9, 4, 7, 1, 3, 8]])"
      ]
     },
     "execution_count": 13,
     "metadata": {},
     "output_type": "execute_result"
    }
   ],
   "source": [
    "close_to_solved_puzzle2"
   ]
  },
  {
   "cell_type": "markdown",
   "id": "e037b59f-58ce-4f45-a31d-5a9097cd479d",
   "metadata": {},
   "source": [
    "We can see this solution has no row error (all rows have 9 unique numbers), whereas two column has only 8 unique numbers"
   ]
  },
  {
   "cell_type": "code",
   "execution_count": 23,
   "id": "00b22351-4d18-4201-abc4-993a507a58a1",
   "metadata": {},
   "outputs": [
    {
     "data": {
      "text/plain": [
       "([9, 9, 9, 9, 9, 9, 9, 9, 9], [9, 9, 9, 9, 8, 8, 9, 9, 9])"
      ]
     },
     "execution_count": 23,
     "metadata": {},
     "output_type": "execute_result"
    }
   ],
   "source": [
    "rowwise_correct = [len(set([x for x in close_to_solved_puzzle2[i] if x!=0])) for i in range(9)]\n",
    "colwise_correct = [len(set([x for x in close_to_solved_puzzle2.T[i] if x!=0])) for i in range(9)]\n",
    "rowwise_correct,colwise_correct"
   ]
  },
  {
   "cell_type": "markdown",
   "id": "1a675a1b-1da2-4cc4-99cc-2352c20aded7",
   "metadata": {},
   "source": [
    "#### Compare the predicted solution with the correct answer shows that the algorithm is trapped in local minimum. The two errors detected indicated many other numbers filled are not correct even if the constraints were met. \n",
    "\n",
    "*black*: given number from the puzzle \n",
    "\n",
    "\n",
    "*blue*: correctly predicted answer\n",
    "\n",
    "\n",
    "*red*: predicted answer, wrong\n",
    "\n",
    "\n",
    "*green*: true answer\n",
    "\n",
    "Plotting function adapted from https://gitlab.com/ostrokach/proteinsolver/"
   ]
  },
  {
   "cell_type": "code",
   "execution_count": 17,
   "id": "7bfe93f6-5c67-4cd0-80a6-31351684aefb",
   "metadata": {},
   "outputs": [
    {
     "data": {
      "image/png": "[encoded data removed]",
      "text/plain": [
       "<Figure size 432x288 with 1 Axes>"
      ]
     },
     "metadata": {
      "needs_background": "light"
     },
     "output_type": "display_data"
    }
   ],
   "source": [
    "show_sudoku_with_known_truth(original_puzzle = Sudoku.Sudoku(startingSudoku2).np_Sudoku,\n",
    "                             solved = Sudoku.Sudoku(solvedstartingSoduku2).np_Sudoku,\n",
    "                            pred = close_to_solved_puzzle2)"
   ]
  },
  {
   "cell_type": "markdown",
   "id": "bff1cbd2-801e-47f5-bbf3-0952929419e7",
   "metadata": {},
   "source": [
    "Let's try another random one from the internet"
   ]
  },
  {
   "cell_type": "code",
   "execution_count": 18,
   "id": "188d1e80-b51a-4869-8b1b-9ff91d32a38a",
   "metadata": {},
   "outputs": [],
   "source": [
    "startingSudoku3 = \"\"\"\n",
    "                    020608000\n",
    "                    580009700\n",
    "                    000040000\n",
    "                    370000500\n",
    "                    600000004\n",
    "                    008000013\n",
    "                    000020000\n",
    "                    009800036\n",
    "                    000306090\n",
    "                  \"\"\"\n",
    "solvedstartingSoduku3 = \"\"\"\n",
    "                        123678945\n",
    "                        584239761\n",
    "                        967145328\n",
    "                        372461589\n",
    "                        691583274\n",
    "                        458792613\n",
    "                        836924157\n",
    "                        219857436\n",
    "                        745316892\n",
    "                        \"\"\""
   ]
  },
  {
   "cell_type": "code",
   "execution_count": 19,
   "id": "8d96a6f1-23c1-42b2-9ef4-1e0d200f1843",
   "metadata": {},
   "outputs": [
    {
     "name": "stdout",
     "output_type": "stream",
     "text": [
      "not solved, min error is 2\n"
     ]
    }
   ],
   "source": [
    "close_to_solved_puzzle3 = genetic_algorithm(startingSudoku = startingSudoku3, max_generation =50000)"
   ]
  },
  {
   "cell_type": "markdown",
   "id": "14fa54c0-bc8f-423d-bb06-458f0d2df564",
   "metadata": {},
   "source": [
    "##### Similar to the above, we can see this solution has no row error (all rows have 9 unique numbers), whereas two column has only 8 unique numbers"
   ]
  },
  {
   "cell_type": "code",
   "execution_count": 20,
   "id": "49a957dd-1093-4b7e-b455-ff0f8c099048",
   "metadata": {},
   "outputs": [
    {
     "data": {
      "text/plain": [
       "([9, 9, 9, 9, 9, 9, 9, 9, 9], [9, 9, 9, 9, 8, 8, 9, 9, 9])"
      ]
     },
     "execution_count": 20,
     "metadata": {},
     "output_type": "execute_result"
    }
   ],
   "source": [
    "rowwise_correct = [len(set([x for x in close_to_solved_puzzle2[i] if x!=0])) for i in range(9)]\n",
    "colwise_correct = [len(set([x for x in close_to_solved_puzzle2.T[i] if x!=0])) for i in range(9)]\n",
    "rowwise_correct, colwise_correct"
   ]
  },
  {
   "cell_type": "markdown",
   "id": "1526c41c-0703-4a1f-b7a7-4208740ecad8",
   "metadata": {},
   "source": [
    "Similar to the above puzzle, it seems that the algorithm is trapped in local minimum. The two errors detected indicated many other numbers filled are not correct even if the constraints were met."
   ]
  },
  {
   "cell_type": "code",
   "execution_count": 21,
   "id": "a6c19a2c-027b-4e91-933a-379036ec8316",
   "metadata": {},
   "outputs": [
    {
     "data": {
      "image/png": "[encoded data removed]",
      "text/plain": [
       "<Figure size 432x288 with 1 Axes>"
      ]
     },
     "metadata": {
      "needs_background": "light"
     },
     "output_type": "display_data"
    }
   ],
   "source": [
    "show_sudoku_with_known_truth(original_puzzle = Sudoku.Sudoku(startingSudoku3).np_Sudoku,\n",
    "                             solved = Sudoku.Sudoku(solvedstartingSoduku3).np_Sudoku,\n",
    "                            pred = close_to_solved_puzzle3)"
   ]
  },
  {
   "cell_type": "code",
   "execution_count": null,
   "id": "d992e1b1-c5c5-4bad-bd21-4da8dfff529b",
   "metadata": {},
   "outputs": [],
   "source": []
  },
  {
   "cell_type": "code",
   "execution_count": null,
   "id": "42f4771c-76a3-483e-a04b-ca9780890131",
   "metadata": {},
   "outputs": [],
   "source": []
  }
 ],
 "metadata": {
  "kernelspec": {
   "display_name": "jiayi_sudoku_solver",
   "language": "python",
   "name": "jiayi_sudoku_solver"
  },
  "language_info": {
   "codemirror_mode": {
    "name": "ipython",
    "version": 3
   },
   "file_extension": ".py",
   "mimetype": "text/x-python",
   "name": "python",
   "nbconvert_exporter": "python",
   "pygments_lexer": "ipython3",
   "version": "3.9.10"
  }
 },
 "nbformat": 4,
 "nbformat_minor": 5
}
